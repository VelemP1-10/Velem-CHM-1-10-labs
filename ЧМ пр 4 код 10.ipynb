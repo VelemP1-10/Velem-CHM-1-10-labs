{
 "cells": [
  {
   "cell_type": "code",
   "execution_count": 1,
   "id": "0d57d02a-b37a-4600-b2b0-d5ca67c94ff4",
   "metadata": {},
   "outputs": [
    {
     "name": "stdout",
     "output_type": "stream",
     "text": [
      "Початкова матриця:\n",
      "[[ -3  -1  -5   3 -10]\n",
      " [ -6   7  -8   7   6]\n",
      " [-10   1  -2   7  -5]\n",
      " [  9  -2   6   4  -2]]\n",
      "\n",
      "Кількість негативних елементів в кожному рядку:\n",
      "[4 2 3 2]\n",
      "\n",
      "Кількість негативних елементів в кожному стовпці:\n",
      "[3 2 3 0 3]\n"
     ]
    }
   ],
   "source": [
    "import numpy as np\n",
    "\n",
    "def count_negatives(matrix):\n",
    "    # Визначення кількості негативних елементів у кожному стовпці та рядку\n",
    "    row_negatives = np.sum(matrix < 0, axis=1)\n",
    "    col_negatives = np.sum(matrix < 0, axis=0)\n",
    "    return row_negatives, col_negatives\n",
    "\n",
    "# Розмір матриці (N рядків і M стовпців)\n",
    "N = 4\n",
    "M = 5\n",
    "\n",
    "# Створення матриці з випадковими елементами\n",
    "matrix_A = np.random.randint(-10, 10, size=(N, M))\n",
    "\n",
    "# Виведення початкової матриці\n",
    "print(\"Початкова матриця:\")\n",
    "print(matrix_A)\n",
    "\n",
    "# Визначення кількості негативних елементів\n",
    "row_negatives, col_negatives = count_negatives(matrix_A)\n",
    "\n",
    "# Виведення результатів\n",
    "print(\"\\nКількість негативних елементів в кожному рядку:\")\n",
    "print(row_negatives)\n",
    "print(\"\\nКількість негативних елементів в кожному стовпці:\")\n",
    "print(col_negatives)\n"
   ]
  },
  {
   "cell_type": "code",
   "execution_count": null,
   "id": "33f1e802-6126-46bb-97f0-a30245d6865c",
   "metadata": {},
   "outputs": [],
   "source": []
  }
 ],
 "metadata": {
  "kernelspec": {
   "display_name": "Python 3 (ipykernel)",
   "language": "python",
   "name": "python3"
  },
  "language_info": {
   "codemirror_mode": {
    "name": "ipython",
    "version": 3
   },
   "file_extension": ".py",
   "mimetype": "text/x-python",
   "name": "python",
   "nbconvert_exporter": "python",
   "pygments_lexer": "ipython3",
   "version": "3.11.1"
  }
 },
 "nbformat": 4,
 "nbformat_minor": 5
}
