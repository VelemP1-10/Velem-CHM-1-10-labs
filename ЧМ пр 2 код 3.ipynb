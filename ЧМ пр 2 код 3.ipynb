{
 "cells": [
  {
   "cell_type": "code",
   "execution_count": 20,
   "id": "3a543895-dce4-4a5d-9176-3053f32dfbc9",
   "metadata": {},
   "outputs": [
    {
     "name": "stdout",
     "output_type": "stream",
     "text": [
      "Уточнене значення кореня на проміжку (1.5;1.6): 1.59209\n",
      "Уточнене значення кореня на проміжку(-2.9, -2.8): -2.82385\n"
     ]
    },
    {
     "name": "stderr",
     "output_type": "stream",
     "text": [
      "C:\\Users\\htoto\\AppData\\Local\\Temp\\ipykernel_9700\\3839276445.py:10: DeprecationWarning: scipy.misc.derivative is deprecated in SciPy v1.10.0; and will be completely removed in SciPy v1.12.0. You may consider using findiff: https://github.com/maroba/findiff or numdifftools: https://github.com/pbrod/numdifftools\n",
      "  if f(a) * derivative(f, a, n=2) > 0:\n"
     ]
    }
   ],
   "source": [
    "import math\n",
    "from scipy.misc import derivative\n",
    "\n",
    "def f(x):\n",
    "    return 3 * pow(x, 4) + 4 * pow(x, 3) - 12 * pow(x, 2) - 5\n",
    "\n",
    "epsilon = 0.0001\n",
    "\n",
    "def hord_method(a, b, epsilon): \n",
    "    if f(a) * derivative(f, a, n=2) > 0: \n",
    "        x0 = a \n",
    "        x_n = b \n",
    "    else: \n",
    "        x0 = b \n",
    "        x_n = a \n",
    "    xn_1 = x_n - (x_n - x0) * f(x_n) / (f(x_n) - f(x0)) \n",
    "    while abs(xn_1 - x_n) > epsilon : \n",
    "        x_n = xn_1 \n",
    "        xn_1 = x_n - (x_n - x0) * f(x_n) / (f(x_n) - f(x0))\n",
    "    return xn_1  \n",
    "\n",
    "root1_hord = hord_method(1.5, 1.6, epsilon)\n",
    "print(\"Уточнене значення кореня на проміжку (1.5;1.6):\", round(root1_hord, 5))\n",
    "\n",
    "root2_hord = hord_method(-2.9, -2.8, epsilon)\n",
    "print(\"Уточнене значення кореня на проміжку(-2.9, -2.8):\", round(root2_hord, 5))\n"
   ]
  },
  {
   "cell_type": "code",
   "execution_count": null,
   "id": "2aa222f8-c70b-4057-9cd7-824e8ca87a3f",
   "metadata": {},
   "outputs": [],
   "source": []
  }
 ],
 "metadata": {
  "kernelspec": {
   "display_name": "Python 3 (ipykernel)",
   "language": "python",
   "name": "python3"
  },
  "language_info": {
   "codemirror_mode": {
    "name": "ipython",
    "version": 3
   },
   "file_extension": ".py",
   "mimetype": "text/x-python",
   "name": "python",
   "nbconvert_exporter": "python",
   "pygments_lexer": "ipython3",
   "version": "3.11.1"
  }
 },
 "nbformat": 4,
 "nbformat_minor": 5
}
