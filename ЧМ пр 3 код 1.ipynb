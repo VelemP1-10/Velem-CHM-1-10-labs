{
 "cells": [
  {
   "cell_type": "code",
   "execution_count": 21,
   "id": "2aa222f8-c70b-4057-9cd7-824e8ca87a3f",
   "metadata": {},
   "outputs": [
    {
     "name": "stdout",
     "output_type": "stream",
     "text": [
      "На відрізку: [-2.9, -2.8] є такі розв'язки: \n",
      "Метод Ньютона: -2.82386\n",
      "На відрізку: [1.5, 1.6] є такі розв'язки: \n",
      "Метод Ньютона: 1.59214\n"
     ]
    },
    {
     "name": "stderr",
     "output_type": "stream",
     "text": [
      "C:\\Users\\htoto\\AppData\\Local\\Temp\\ipykernel_9700\\2844534788.py:12: DeprecationWarning: scipy.misc.derivative is deprecated in SciPy v1.10.0; and will be completely removed in SciPy v1.12.0. You may consider using findiff: https://github.com/maroba/findiff or numdifftools: https://github.com/pbrod/numdifftools\n",
      "  second_derivative = derivative(f, b, n=2)\n",
      "C:\\Users\\htoto\\AppData\\Local\\Temp\\ipykernel_9700\\2844534788.py:19: DeprecationWarning: scipy.misc.derivative is deprecated in SciPy v1.10.0; and will be completely removed in SciPy v1.12.0. You may consider using findiff: https://github.com/maroba/findiff or numdifftools: https://github.com/pbrod/numdifftools\n",
      "  first_derivative = derivative(f, x_n, n=1)\n"
     ]
    }
   ],
   "source": [
    "import numpy as np\n",
    "from scipy.misc import derivative\n",
    "\n",
    "def f(x):\n",
    "    return 3 * pow(x, 4) + 4 * pow(x, 3) - 12 * pow(x, 2) - 5\n",
    "\n",
    "found_segments = [(-2.9, -2.8), (1.5, 1.6)]\n",
    "epsilon = 0.0001\n",
    "\n",
    "def newton_method(f, a, b, epsilon):\n",
    "    while True:\n",
    "        second_derivative = derivative(f, b, n=2)\n",
    "        if second_derivative == 0:\n",
    "            return None\n",
    "        if f(b) * second_derivative > 0:\n",
    "            x_n = b\n",
    "        else:\n",
    "            x_n = a\n",
    "        first_derivative = derivative(f, x_n, n=1)\n",
    "        x_n_1 = x_n - f(x_n) / first_derivative\n",
    "        if abs(x_n_1 - x_n) < epsilon:к\n",
    "            return x_n_1\n",
    "        b = x_n_1  \n",
    "\n",
    "for a, b in found_segments:\n",
    "    print(f\"На відрізку: [{a}, {b}] є такі розв'язки: \")\n",
    "    if f(a) * f(b) < 0:\n",
    "        root_newton = newton_method(f, a, b, epsilon)\n",
    "        if root_newton is not None:\n",
    "            print('Метод Ньютона:', round(root_newton, 5))\n",
    "        else:\n",
    "            print('Метод Ньютона не знайшов кореня.')\n",
    "    else:\n",
    "        print('На цьому відрізку корені відсутні')"
   ]
  },
  {
   "cell_type": "code",
   "execution_count": null,
   "id": "64c8036f-f14a-4bc3-807d-a6e4635e8a6d",
   "metadata": {},
   "outputs": [],
   "source": []
  }
 ],
 "metadata": {
  "kernelspec": {
   "display_name": "Python 3 (ipykernel)",
   "language": "python",
   "name": "python3"
  },
  "language_info": {
   "codemirror_mode": {
    "name": "ipython",
    "version": 3
   },
   "file_extension": ".py",
   "mimetype": "text/x-python",
   "name": "python",
   "nbconvert_exporter": "python",
   "pygments_lexer": "ipython3",
   "version": "3.11.1"
  }
 },
 "nbformat": 4,
 "nbformat_minor": 5
}
