{
 "cells": [
  {
   "cell_type": "code",
   "execution_count": 1,
   "id": "78133bee-9201-4767-bea2-a0c0d30b9adc",
   "metadata": {},
   "outputs": [
    {
     "name": "stdout",
     "output_type": "stream",
     "text": [
      "Перша матриця:\n",
      "[[ 3  5]\n",
      " [ 6 -1]]\n",
      "\n",
      "Друга матриця:\n",
      "[[ 2  1]\n",
      " [-3  2]]\n",
      "\n",
      "Добуток матриць:\n",
      "[[-9 13]\n",
      " [15  4]]\n"
     ]
    }
   ],
   "source": [
    "import numpy as np\n",
    "# Вхідні матриці\n",
    "matrix1 = np.array([[3, 5],\n",
    "                    [6, -1]])\n",
    "matrix2 = np.array([[2, 1],\n",
    "                    [-3, 2]])\n",
    "# Знаходження добутку матриць\n",
    "result = np.matmul(matrix1, matrix2)\n",
    "print(\"Перша матриця:\")\n",
    "print(matrix1)\n",
    "print(\"\\nДруга матриця:\")\n",
    "print(matrix2)\n",
    "print(\"\\nДобуток матриць:\")\n",
    "print(result)\n"
   ]
  },
  {
   "cell_type": "code",
   "execution_count": null,
   "id": "60d5f3ed-0b5b-4cca-880f-0baa2e0995ea",
   "metadata": {},
   "outputs": [],
   "source": []
  }
 ],
 "metadata": {
  "kernelspec": {
   "display_name": "Python 3 (ipykernel)",
   "language": "python",
   "name": "python3"
  },
  "language_info": {
   "codemirror_mode": {
    "name": "ipython",
    "version": 3
   },
   "file_extension": ".py",
   "mimetype": "text/x-python",
   "name": "python",
   "nbconvert_exporter": "python",
   "pygments_lexer": "ipython3",
   "version": "3.11.1"
  }
 },
 "nbformat": 4,
 "nbformat_minor": 5
}
