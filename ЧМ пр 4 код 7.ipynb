{
 "cells": [
  {
   "cell_type": "code",
   "execution_count": 1,
   "id": "6cdb80ba-5ee9-4bf0-a4f8-d1df67f391b8",
   "metadata": {},
   "outputs": [
    {
     "name": "stdout",
     "output_type": "stream",
     "text": [
      "Матриця:\n",
      "[[ 1  2  3  4]\n",
      " [ 3 -1  2  5]\n",
      " [ 1  2  3  4]\n",
      " [ 1  3  4  5]]\n",
      "\n",
      "Ранг матриці: 2\n"
     ]
    }
   ],
   "source": [
    "import numpy as np\n",
    "# Вхідна матриця\n",
    "matrix = np.array([[1, 2, 3, 4],\n",
    "                   [3, -1, 2, 5],\n",
    "                   [1, 2, 3, 4],\n",
    "                   [1, 3, 4, 5]])\n",
    "# Знаходження рангу матриці\n",
    "matrix_rank = np.linalg.matrix_rank(matrix)\n",
    "print(\"Матриця:\")\n",
    "print(matrix)\n",
    "print(\"\\nРанг матриці:\", matrix_rank)\n"
   ]
  },
  {
   "cell_type": "code",
   "execution_count": null,
   "id": "efcf84dd-4908-452f-b3fa-a7c039782aa9",
   "metadata": {},
   "outputs": [],
   "source": []
  }
 ],
 "metadata": {
  "kernelspec": {
   "display_name": "Python 3 (ipykernel)",
   "language": "python",
   "name": "python3"
  },
  "language_info": {
   "codemirror_mode": {
    "name": "ipython",
    "version": 3
   },
   "file_extension": ".py",
   "mimetype": "text/x-python",
   "name": "python",
   "nbconvert_exporter": "python",
   "pygments_lexer": "ipython3",
   "version": "3.11.1"
  }
 },
 "nbformat": 4,
 "nbformat_minor": 5
}
