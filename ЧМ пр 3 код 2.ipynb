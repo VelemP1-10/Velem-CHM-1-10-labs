{
 "cells": [
  {
   "cell_type": "code",
   "execution_count": 22,
   "id": "64c8036f-f14a-4bc3-807d-a6e4635e8a6d",
   "metadata": {},
   "outputs": [
    {
     "name": "stdout",
     "output_type": "stream",
     "text": [
      "На відрізку [-2.9, -2.8] є такі розв'язки: \n",
      "Комбінований метод: -2.82385\n",
      "На відрізку [1.5, 1.6] є такі розв'язки: \n",
      "Комбінований метод: 1.59209\n"
     ]
    },
    {
     "name": "stderr",
     "output_type": "stream",
     "text": [
      "C:\\Users\\htoto\\AppData\\Local\\Temp\\ipykernel_9700\\1831745552.py:8: DeprecationWarning: scipy.misc.derivative is deprecated in SciPy v1.10.0; and will be completely removed in SciPy v1.12.0. You may consider using findiff: https://github.com/maroba/findiff or numdifftools: https://github.com/pbrod/numdifftools\n",
      "  if derivative(f, a, dx=eps) * derivative(f, a, n=2) > 0:\n",
      "C:\\Users\\htoto\\AppData\\Local\\Temp\\ipykernel_9700\\1831745552.py:18: DeprecationWarning: scipy.misc.derivative is deprecated in SciPy v1.10.0; and will be completely removed in SciPy v1.12.0. You may consider using findiff: https://github.com/maroba/findiff or numdifftools: https://github.com/pbrod/numdifftools\n",
      "  b_n_1 = b_n - f(b_n) / derivative(f, b_n, n=1)\n"
     ]
    }
   ],
   "source": [
    "import numpy as np\n",
    "from scipy.misc import derivative\n",
    "\n",
    "def f(x):\n",
    "    return 3 * pow(x, 4) + 4 * pow(x, 3) - 12 * pow(x, 2) - 5\n",
    "\n",
    "def combined_newton_chord_method(f, a, b, eps):\n",
    "    if derivative(f, a, dx=eps) * derivative(f, a, n=2) > 0:\n",
    "        a0 = a\n",
    "        b0 = b\n",
    "    else:\n",
    "        a0 = b\n",
    "        b0 = a\n",
    "    a_n = a0\n",
    "    b_n = b0\n",
    "    while True:\n",
    "        a_n_1 = a_n - f(a_n) * (b_n - a_n) / (f(b_n) - f(a_n))\n",
    "        b_n_1 = b_n - f(b_n) / derivative(f, b_n, n=1)\n",
    "        if abs(a_n_1 - b_n_1) < eps:\n",
    "            return a_n_1\n",
    "        a_n = a_n_1\n",
    "        b_n = b_n_1\n",
    "\n",
    "eps = 0.0001\n",
    "found_segments = [(-2.9, -2.8), (1.5, 1.6)]\n",
    "\n",
    "for a, b in found_segments:\n",
    "    print(f\"На відрізку [{a}, {b}] є такі розв'язки: \")\n",
    "    if f(a) * f(b) < 0:\n",
    "        root_combined = combined_newton_chord_method(f, a, b, eps)\n",
    "        if a <= root_combined <= b:\n",
    "            print('Комбінований метод:', round(root_combined, 5))\n",
    "    else:\n",
    "        print('На цьому відрізку корені відсутні')"
   ]
  },
  {
   "cell_type": "code",
   "execution_count": null,
   "id": "78b8b22b-84e3-4a4d-8360-5c276e00b41a",
   "metadata": {},
   "outputs": [],
   "source": []
  }
 ],
 "metadata": {
  "kernelspec": {
   "display_name": "Python 3 (ipykernel)",
   "language": "python",
   "name": "python3"
  },
  "language_info": {
   "codemirror_mode": {
    "name": "ipython",
    "version": 3
   },
   "file_extension": ".py",
   "mimetype": "text/x-python",
   "name": "python",
   "nbconvert_exporter": "python",
   "pygments_lexer": "ipython3",
   "version": "3.11.1"
  }
 },
 "nbformat": 4,
 "nbformat_minor": 5
}
