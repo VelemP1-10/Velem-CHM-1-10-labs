{
 "cells": [
  {
   "cell_type": "code",
   "execution_count": 7,
   "id": "8c6e12b3-2ed5-4b46-b428-8662f1f48e0f",
   "metadata": {},
   "outputs": [
    {
     "name": "stdout",
     "output_type": "stream",
     "text": [
      "Матриця:\n",
      "[[2 4 5]\n",
      " [1 1 2]\n",
      " [2 4 3]]\n",
      "\n",
      "Визначник матриці: 4.0\n"
     ]
    }
   ],
   "source": [
    "import numpy as np\n",
    "# Вхідна матриця\n",
    "matrix = np.array([[2, 4, 5],\n",
    "                   [1, 1, 2],\n",
    "                   [2, 4, 3]])\n",
    "# Знаходження визначника матриці\n",
    "determinant = np.linalg.det(matrix)\n",
    "print(\"Матриця:\")\n",
    "print(matrix)\n",
    "print(\"\\nВизначник матриці:\", determinant)\n"
   ]
  },
  {
   "cell_type": "code",
   "execution_count": null,
   "id": "01a9d4a6-8b26-447c-acc2-45d8f103fa1b",
   "metadata": {},
   "outputs": [],
   "source": []
  }
 ],
 "metadata": {
  "kernelspec": {
   "display_name": "Python 3 (ipykernel)",
   "language": "python",
   "name": "python3"
  },
  "language_info": {
   "codemirror_mode": {
    "name": "ipython",
    "version": 3
   },
   "file_extension": ".py",
   "mimetype": "text/x-python",
   "name": "python",
   "nbconvert_exporter": "python",
   "pygments_lexer": "ipython3",
   "version": "3.11.1"
  }
 },
 "nbformat": 4,
 "nbformat_minor": 5
}
