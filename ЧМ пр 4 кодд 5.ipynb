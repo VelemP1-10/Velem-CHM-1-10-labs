{
 "cells": [
  {
   "cell_type": "code",
   "execution_count": 1,
   "id": "40ca15b9-8772-45f2-a212-95e432506e39",
   "metadata": {},
   "outputs": [
    {
     "name": "stdout",
     "output_type": "stream",
     "text": [
      "Матриця:\n",
      "[[2 3 4 1]\n",
      " [1 2 3 4]\n",
      " [3 4 1 2]\n",
      " [4 1 2 3]]\n",
      "\n",
      "Визначник матриці: -160.00000000000009\n"
     ]
    }
   ],
   "source": [
    "import numpy as np\n",
    "# Вхідна матриця\n",
    "matrix = np.array([[2, 3, 4, 1],\n",
    "                   [1, 2, 3, 4],\n",
    "                   [3, 4, 1, 2],\n",
    "                   [4, 1, 2, 3]])\n",
    "# Знаходження визначника матриці\n",
    "determinant = np.linalg.det(matrix)\n",
    "print(\"Матриця:\")\n",
    "print(matrix)\n",
    "print(\"\\nВизначник матриці:\", determinant)\n"
   ]
  },
  {
   "cell_type": "code",
   "execution_count": null,
   "id": "3d94a954-2548-47de-b822-2a8d1ed4a100",
   "metadata": {},
   "outputs": [],
   "source": []
  }
 ],
 "metadata": {
  "kernelspec": {
   "display_name": "Python 3 (ipykernel)",
   "language": "python",
   "name": "python3"
  },
  "language_info": {
   "codemirror_mode": {
    "name": "ipython",
    "version": 3
   },
   "file_extension": ".py",
   "mimetype": "text/x-python",
   "name": "python",
   "nbconvert_exporter": "python",
   "pygments_lexer": "ipython3",
   "version": "3.11.1"
  }
 },
 "nbformat": 4,
 "nbformat_minor": 5
}
