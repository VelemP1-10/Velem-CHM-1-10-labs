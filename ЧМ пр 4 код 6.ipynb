{
 "cells": [
  {
   "cell_type": "code",
   "execution_count": 1,
   "id": "614bd5c1-0795-484b-bf3d-62be95868caa",
   "metadata": {},
   "outputs": [
    {
     "name": "stdout",
     "output_type": "stream",
     "text": [
      "Матриця:\n",
      "[[ 2  5  7]\n",
      " [ 6  3  4]\n",
      " [ 5 -2 -3]]\n",
      "\n",
      "Обернена матриця:\n",
      "[[  1.  -1.   1.]\n",
      " [-38.  41. -34.]\n",
      " [ 27. -29.  24.]]\n"
     ]
    }
   ],
   "source": [
    "import numpy as np\n",
    "# Вхідна матриця\n",
    "matrix = np.array([[2, 5, 7],\n",
    "                   [6, 3, 4],\n",
    "                   [5, -2, -3]])\n",
    "# Знаходження оберненої матриці\n",
    "inverse_matrix = np.linalg.inv(matrix)\n",
    "print(\"Матриця:\")\n",
    "print(matrix)\n",
    "print(\"\\nОбернена матриця:\")\n",
    "print(inverse_matrix)\n"
   ]
  },
  {
   "cell_type": "code",
   "execution_count": null,
   "id": "adae6fde-21a0-4ed5-b564-a9c1efd269ea",
   "metadata": {},
   "outputs": [],
   "source": []
  }
 ],
 "metadata": {
  "kernelspec": {
   "display_name": "Python 3 (ipykernel)",
   "language": "python",
   "name": "python3"
  },
  "language_info": {
   "codemirror_mode": {
    "name": "ipython",
    "version": 3
   },
   "file_extension": ".py",
   "mimetype": "text/x-python",
   "name": "python",
   "nbconvert_exporter": "python",
   "pygments_lexer": "ipython3",
   "version": "3.11.1"
  }
 },
 "nbformat": 4,
 "nbformat_minor": 5
}
