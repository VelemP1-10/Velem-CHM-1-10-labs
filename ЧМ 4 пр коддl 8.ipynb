{
 "cells": [
  {
   "cell_type": "code",
   "execution_count": 1,
   "id": "e66d4e68-a4f4-47db-ab9b-1e56591689c6",
   "metadata": {},
   "outputs": [
    {
     "name": "stdout",
     "output_type": "stream",
     "text": [
      "Розв'язок системи за допомогою методу Крамера: [ 2. -1. -3.]\n",
      "Розв'язок системи за допомогою solve() з пакету linalg: [ 2. -1. -3.]\n"
     ]
    }
   ],
   "source": [
    "import numpy as np\n",
    "# Коефіцієнти при змінних\n",
    "coefficients = np.array([[2, -1, 1],\n",
    "                         [3, 2, 2],\n",
    "                         [1, -2, 1]])\n",
    "# Вільні члени\n",
    "constants = np.array([2, -2, 1])\n",
    "# Знайдемо детермінант матриці системи та детермінанти матриць заміною коефіцієнтів\n",
    "det_A = np.linalg.det(coefficients)\n",
    "det_Ax = np.linalg.det(np.column_stack((constants, coefficients[:, 1:])))\n",
    "det_Ay = np.linalg.det(np.column_stack((coefficients[:, 0], constants, coefficients[:, 2])))\n",
    "det_Az = np.linalg.det(np.column_stack((coefficients[:, :2], constants)))\n",
    "# Знайдемо значення змінних\n",
    "x = det_Ax / det_A\n",
    "y = det_Ay / det_A\n",
    "z = det_Az / det_A\n",
    "# Розв'язок методом Крамера\n",
    "solution_kramer = np.array([x, y, z])\n",
    "# Перевірка розв'язку за допомогою solve() з пакету linalg\n",
    "solution_linalg = np.linalg.solve(coefficients, constants)\n",
    "# Виведемо результати\n",
    "print(\"Розв'язок системи за допомогою методу Крамера:\", solution_kramer)\n",
    "print(\"Розв'язок системи за допомогою solve() з пакету linalg:\", solution_linalg)\n"
   ]
  },
  {
   "cell_type": "code",
   "execution_count": null,
   "id": "fec55cef-b03a-4ad6-95ad-144bec02d9f9",
   "metadata": {},
   "outputs": [],
   "source": []
  }
 ],
 "metadata": {
  "kernelspec": {
   "display_name": "Python 3 (ipykernel)",
   "language": "python",
   "name": "python3"
  },
  "language_info": {
   "codemirror_mode": {
    "name": "ipython",
    "version": 3
   },
   "file_extension": ".py",
   "mimetype": "text/x-python",
   "name": "python",
   "nbconvert_exporter": "python",
   "pygments_lexer": "ipython3",
   "version": "3.11.1"
  }
 },
 "nbformat": 4,
 "nbformat_minor": 5
}
