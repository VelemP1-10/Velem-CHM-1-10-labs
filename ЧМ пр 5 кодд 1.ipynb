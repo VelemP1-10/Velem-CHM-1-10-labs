{
 "cells": [
  {
   "cell_type": "code",
   "execution_count": 1,
   "id": "86ea50ba-db8f-4768-92cd-47848a0b35e5",
   "metadata": {},
   "outputs": [
    {
     "name": "stdout",
     "output_type": "stream",
     "text": [
      "Метод ітерацій збіжний\n"
     ]
    }
   ],
   "source": [
    "\n",
    "import sympy as sp\n",
    "x, y = sp.symbols('x y')\n",
    "def check(x_val, y_val):\n",
    "    f1 = 3 + sp.cos(y)\n",
    "    f2 = 0.5 + sp.cos(x - 1)\n",
    "    df1_dx_val = sp.diff(f1, x).evalf(subs={x: x_val, y: y_val})\n",
    "    df1_dy_val =sp.diff(f1, y).evalf(subs={x: x_val, y: y_val})\n",
    "    df2_dx_val = sp.diff(f2, x).evalf(subs={x: x_val, y: y_val})\n",
    "    df2_dy_val = sp.diff(f2, y).evalf(subs={x: x_val, y: y_val})\n",
    "    if abs(df1_dx_val) + abs(df2_dx_val) < 1 and abs(df1_dy_val) + abs(df2_dy_val) < 1:\n",
    "        print(\"Метод ітерацій збіжний\")\n",
    "    else:\n",
    "        print(\"Метод ітерацій не збіжний\")\n",
    "x_value = 4.5\n",
    "y_value = 1.4\n",
    "check(x_value, y_value)\n"
   ]
  },
  {
   "cell_type": "code",
   "execution_count": null,
   "id": "f7efb585-02ea-40bc-93bc-3a7d99374868",
   "metadata": {},
   "outputs": [],
   "source": []
  }
 ],
 "metadata": {
  "kernelspec": {
   "display_name": "Python 3 (ipykernel)",
   "language": "python",
   "name": "python3"
  },
  "language_info": {
   "codemirror_mode": {
    "name": "ipython",
    "version": 3
   },
   "file_extension": ".py",
   "mimetype": "text/x-python",
   "name": "python",
   "nbconvert_exporter": "python",
   "pygments_lexer": "ipython3",
   "version": "3.11.1"
  }
 },
 "nbformat": 4,
 "nbformat_minor": 5
}
