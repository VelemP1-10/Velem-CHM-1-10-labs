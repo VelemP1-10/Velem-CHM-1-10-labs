{
 "cells": [
  {
   "cell_type": "code",
   "execution_count": 1,
   "id": "0d889d09-8681-4bea-9ec9-a9cd4d122ec9",
   "metadata": {},
   "outputs": [
    {
     "name": "stdout",
     "output_type": "stream",
     "text": [
      "iteration method roots: 3.356141841333114, 1.2069929148480703, iters = 37\n"
     ]
    },
    {
     "ename": "ValueError",
     "evalue": "Unknown solver hord",
     "output_type": "error",
     "traceback": [
      "\u001b[1;31m---------------------------------------------------------------------------\u001b[0m",
      "\u001b[1;31mValueError\u001b[0m                                Traceback (most recent call last)",
      "Cell \u001b[1;32mIn[1], line 35\u001b[0m\n\u001b[0;32m     32\u001b[0m \u001b[38;5;28;01mdef\u001b[39;00m \u001b[38;5;21meq_check\u001b[39m(x):\n\u001b[0;32m     33\u001b[0m     \u001b[38;5;28;01mreturn\u001b[39;00m \u001b[38;5;241m3\u001b[39m\u001b[38;5;241m+\u001b[39mmath\u001b[38;5;241m.\u001b[39mcos(y[\u001b[38;5;241m1\u001b[39m]), \u001b[38;5;241m0.5\u001b[39m\u001b[38;5;241m-\u001b[39mmath\u001b[38;5;241m.\u001b[39mcos(y[\u001b[38;5;241m1\u001b[39m]\u001b[38;5;241m-\u001b[39m\u001b[38;5;241m1\u001b[39m)\n\u001b[1;32m---> 35\u001b[0m s \u001b[38;5;241m=\u001b[39m \u001b[43moptimize\u001b[49m\u001b[38;5;241;43m.\u001b[39;49m\u001b[43mroot\u001b[49m\u001b[43m(\u001b[49m\u001b[43meq_check\u001b[49m\u001b[43m,\u001b[49m\u001b[43m \u001b[49m\u001b[43m[\u001b[49m\u001b[43m(\u001b[49m\u001b[43mxmin\u001b[49m\u001b[38;5;241;43m+\u001b[39;49m\u001b[43mxmax\u001b[49m\u001b[43m)\u001b[49m\u001b[38;5;241;43m*\u001b[39;49m\u001b[38;5;241;43m0.5\u001b[39;49m\u001b[43m,\u001b[49m\u001b[43m \u001b[49m\u001b[43m(\u001b[49m\u001b[43mymax\u001b[49m\u001b[38;5;241;43m+\u001b[39;49m\u001b[43mymin\u001b[49m\u001b[43m)\u001b[49m\u001b[38;5;241;43m*\u001b[39;49m\u001b[38;5;241;43m0.5\u001b[39;49m\u001b[43m]\u001b[49m\u001b[43m,\u001b[49m\u001b[43m \u001b[49m\u001b[43mmethod\u001b[49m\u001b[43m \u001b[49m\u001b[38;5;241;43m=\u001b[39;49m\u001b[43m \u001b[49m\u001b[38;5;124;43m'\u001b[39;49m\u001b[38;5;124;43mhord\u001b[39;49m\u001b[38;5;124;43m'\u001b[39;49m\u001b[43m,\u001b[49m\u001b[43m \u001b[49m\u001b[43mtol\u001b[49m\u001b[43m \u001b[49m\u001b[38;5;241;43m=\u001b[39;49m\u001b[43m \u001b[49m\u001b[38;5;241;43m0.0001\u001b[39;49m\u001b[43m)\u001b[49m\n\u001b[0;32m     36\u001b[0m \u001b[38;5;28mprint\u001b[39m (\u001b[38;5;124m'\u001b[39m\u001b[38;5;124mPerevirka\u001b[39m\u001b[38;5;124m'\u001b[39m,s\u001b[38;5;241m.\u001b[39mx)\n",
      "File \u001b[1;32m~\\AppData\\Local\\Programs\\Python\\Python311\\Lib\\site-packages\\scipy\\optimize\\_root.py:250\u001b[0m, in \u001b[0;36mroot\u001b[1;34m(fun, x0, args, method, jac, tol, callback, options)\u001b[0m\n\u001b[0;32m    246\u001b[0m     sol \u001b[38;5;241m=\u001b[39m _root_nonlin_solve(fun, x0, args\u001b[38;5;241m=\u001b[39margs, jac\u001b[38;5;241m=\u001b[39mjac,\n\u001b[0;32m    247\u001b[0m                              _method\u001b[38;5;241m=\u001b[39mmeth, _callback\u001b[38;5;241m=\u001b[39mcallback,\n\u001b[0;32m    248\u001b[0m                              \u001b[38;5;241m*\u001b[39m\u001b[38;5;241m*\u001b[39moptions)\n\u001b[0;32m    249\u001b[0m \u001b[38;5;28;01melse\u001b[39;00m:\n\u001b[1;32m--> 250\u001b[0m     \u001b[38;5;28;01mraise\u001b[39;00m \u001b[38;5;167;01mValueError\u001b[39;00m(\u001b[38;5;124m'\u001b[39m\u001b[38;5;124mUnknown solver \u001b[39m\u001b[38;5;132;01m%s\u001b[39;00m\u001b[38;5;124m'\u001b[39m \u001b[38;5;241m%\u001b[39m method)\n\u001b[0;32m    252\u001b[0m \u001b[38;5;28;01mreturn\u001b[39;00m sol\n",
      "\u001b[1;31mValueError\u001b[0m: Unknown solver hord"
     ]
    }
   ],
   "source": [
    "import math\n",
    "from scipy import optimize\n",
    "\n",
    "xmin = 4.2\n",
    "ymin = 1.3\n",
    "\n",
    "xmax = 4.5\n",
    "ymax = 1.4\n",
    "\n",
    "eps = 0.0001\n",
    "\n",
    "def eq1(x):\n",
    "  return 0.5-math.cos(x-1)\n",
    "\n",
    "def eq2(y):\n",
    "  return 3+math.cos(y)\n",
    "\n",
    "def iteration_method(x, y, eps):\n",
    "    curr_y = y\n",
    "    curr_x = x\n",
    "    next_y = eq1(curr_x)\n",
    "    next_x = eq2(curr_y)\n",
    "    iters = 1\n",
    "    while(abs(next_x-curr_x)>=eps) and (abs(next_y-curr_y)>=eps):\n",
    "        curr_x = next_x\n",
    "        curr_y = next_y\n",
    "        next_y = eq1(curr_x)\n",
    "        next_x = eq2(curr_y)\n",
    "        iters += 1\n",
    "    print(f\"iteration method roots: {curr_x}, {curr_y}, iters = {iters}\")\n",
    "iteration_method((xmin+xmax)*0.5, (ymax+ymin)*0.5, eps)\n",
    "def eq_check(x):\n",
    "    return 3+math.cos(y[1]), 0.5-math.cos(y[1]-1)\n",
    "\n",
    "s = optimize.root(eq_check, [(xmin+xmax)*0.5, (ymax+ymin)*0.5], method = 'hord', tol = 0.0001)\n",
    "print ('Perevirka',s.x)\n"
   ]
  },
  {
   "cell_type": "code",
   "execution_count": null,
   "id": "a39101e8-f2c4-4b99-90e3-8442f2511e92",
   "metadata": {},
   "outputs": [],
   "source": []
  }
 ],
 "metadata": {
  "kernelspec": {
   "display_name": "Python 3 (ipykernel)",
   "language": "python",
   "name": "python3"
  },
  "language_info": {
   "codemirror_mode": {
    "name": "ipython",
    "version": 3
   },
   "file_extension": ".py",
   "mimetype": "text/x-python",
   "name": "python",
   "nbconvert_exporter": "python",
   "pygments_lexer": "ipython3",
   "version": "3.11.1"
  }
 },
 "nbformat": 4,
 "nbformat_minor": 5
}
