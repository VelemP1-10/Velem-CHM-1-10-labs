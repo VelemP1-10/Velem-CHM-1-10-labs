{
 "cells": [
  {
   "cell_type": "code",
   "execution_count": 5,
   "id": "b0cf68a2-cffc-43a2-974c-2a84703492c3",
   "metadata": {},
   "outputs": [
    {
     "name": "stdout",
     "output_type": "stream",
     "text": [
      "Перша рівність √73 = 8.54 точніша з відносною похибкою 0.0004686029450449908\n"
     ]
    }
   ],
   "source": [
    "import math\n",
    "X1 = math.sqrt(73)#точне число x1\n",
    "X2 = 7/15#точне число x2\n",
    "x1 = 8.54#наближене число x1\n",
    "x2 = 0.467#наближене число x2\n",
    "def f(x1,x2,X1,X2):\n",
    "    absol_err_x1 = abs(X1-x1)\n",
    "    absol_err_x2 = abs(X2-x2)\n",
    "    rel_err_x1 = absol_err_x1/abs(X1)\n",
    "    rel_err_x2 = absol_err_x2/abs(X2)\n",
    "    if rel_err_x1 < rel_err_x2:\n",
    "        print(\"Перша рівність √73 = 8.54 точніша з відносною похибкою\",rel_err_x1)\n",
    "    elif rel_err_x1 > rel_err_x2:\n",
    "        print(\"Друга рівність 7/15 = 0.467 точніша з відносною похибкою\",rel_err_x2)\n",
    "    else:\n",
    "        print(\"Обидві рівності мають однакову точність з відносною похибкою:\", rel_err_x2)\n",
    "f(x1,x2,X1,X2)"
   ]
  },
  {
   "cell_type": "code",
   "execution_count": null,
   "id": "02466d72-be5e-45f1-9dde-cd8f300cdf80",
   "metadata": {},
   "outputs": [],
   "source": []
  }
 ],
 "metadata": {
  "kernelspec": {
   "display_name": "Python 3 (ipykernel)",
   "language": "python",
   "name": "python3"
  },
  "language_info": {
   "codemirror_mode": {
    "name": "ipython",
    "version": 3
   },
   "file_extension": ".py",
   "mimetype": "text/x-python",
   "name": "python",
   "nbconvert_exporter": "python",
   "pygments_lexer": "ipython3",
   "version": "3.11.1"
  }
 },
 "nbformat": 4,
 "nbformat_minor": 5
}
