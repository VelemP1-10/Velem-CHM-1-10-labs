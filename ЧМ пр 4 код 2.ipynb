{
 "cells": [
  {
   "cell_type": "code",
   "execution_count": 5,
   "id": "57c7f9c7-07bc-4e42-95d3-17d000bd2214",
   "metadata": {},
   "outputs": [
    {
     "name": "stdout",
     "output_type": "stream",
     "text": [
      "Початна матриця:\n",
      "[[-1  2]\n",
      " [ 0  1]]\n",
      "\n",
      "Матриця, піднята до квадрату:\n",
      "[[1 0]\n",
      " [0 1]]\n"
     ]
    }
   ],
   "source": [
    "import numpy as np\n",
    "\n",
    "# Вхідна матриця\n",
    "matrix = np.array([[-1, 2],\n",
    "                   [0, 1]])\n",
    "\n",
    "# Піднесення матриці до квадрату\n",
    "result = np.matmul(matrix, matrix)\n",
    "\n",
    "print(\"Початна матриця:\")\n",
    "print(matrix)\n",
    "\n",
    "print(\"\\nМатриця, піднята до квадрату:\")\n",
    "print(result)\n"
   ]
  },
  {
   "cell_type": "code",
   "execution_count": null,
   "id": "16613bd8-2ac4-44a4-8afa-8ce1190b41ac",
   "metadata": {},
   "outputs": [],
   "source": []
  }
 ],
 "metadata": {
  "kernelspec": {
   "display_name": "Python 3 (ipykernel)",
   "language": "python",
   "name": "python3"
  },
  "language_info": {
   "codemirror_mode": {
    "name": "ipython",
    "version": 3
   },
   "file_extension": ".py",
   "mimetype": "text/x-python",
   "name": "python",
   "nbconvert_exporter": "python",
   "pygments_lexer": "ipython3",
   "version": "3.11.1"
  }
 },
 "nbformat": 4,
 "nbformat_minor": 5
}
