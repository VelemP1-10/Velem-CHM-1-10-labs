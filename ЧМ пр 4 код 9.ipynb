{
 "cells": [
  {
   "cell_type": "code",
   "execution_count": 1,
   "id": "290be4d9-47af-4f05-b726-b64d08d6972c",
   "metadata": {},
   "outputs": [
    {
     "name": "stdout",
     "output_type": "stream",
     "text": [
      "Розв'язок системи матричним методом (з оберненою матрицею): [ 2. -1. -3.]\n",
      "Розв'язок системи за допомогою solve() з пакету linalg: [ 2. -1. -3.]\n"
     ]
    }
   ],
   "source": [
    "import numpy as np\n",
    "\n",
    "# Коефіцієнти при змінних\n",
    "coefficients = np.array([[2, -1, 1],\n",
    "                         [3, 2, 2],\n",
    "                         [1, -2, 1]])\n",
    "\n",
    "# Вільні члени\n",
    "constants = np.array([2, -2, 1])\n",
    "\n",
    "# Знайдемо обернену матрицю\n",
    "inverse_matrix = np.linalg.inv(coefficients)\n",
    "\n",
    "# Знайдемо значення змінних, використовуючи обернену матрицю\n",
    "solution_matrix_method = np.dot(inverse_matrix, constants)\n",
    "\n",
    "# Перевірка розв'язку за допомогою solve() з пакету linalg\n",
    "solution_linalg = np.linalg.solve(coefficients, constants)\n",
    "\n",
    "# Виведемо результати\n",
    "print(\"Розв'язок системи матричним методом (з оберненою матрицею):\", solution_matrix_method)\n",
    "print(\"Розв'язок системи за допомогою solve() з пакету linalg:\", solution_linalg)\n"
   ]
  },
  {
   "cell_type": "code",
   "execution_count": null,
   "id": "012292cb-4b92-4eb7-a704-b8a2b50d51c7",
   "metadata": {},
   "outputs": [],
   "source": []
  }
 ],
 "metadata": {
  "kernelspec": {
   "display_name": "Python 3 (ipykernel)",
   "language": "python",
   "name": "python3"
  },
  "language_info": {
   "codemirror_mode": {
    "name": "ipython",
    "version": 3
   },
   "file_extension": ".py",
   "mimetype": "text/x-python",
   "name": "python",
   "nbconvert_exporter": "python",
   "pygments_lexer": "ipython3",
   "version": "3.11.1"
  }
 },
 "nbformat": 4,
 "nbformat_minor": 5
}
