{
 "cells": [
  {
   "cell_type": "code",
   "execution_count": 1,
   "id": "83286270-6c5e-4b44-81fc-8f472991d68c",
   "metadata": {},
   "outputs": [
    {
     "name": "stdout",
     "output_type": "stream",
     "text": [
      "Матриця A:\n",
      " [[1 1 1]\n",
      " [0 1 1]\n",
      " [0 0 1]]\n",
      "Матриця B:\n",
      " [[7 5 3]\n",
      " [0 7 5]\n",
      " [0 0 7]]\n",
      "Матриця C:\n",
      " [[0 0 0]\n",
      " [0 0 0]\n",
      " [0 0 0]]\n"
     ]
    }
   ],
   "source": [
    "import numpy as np\n",
    "\n",
    "A = np.matrix([[1,1,1], [0,1,1], [0,0,1]])\n",
    "B = np.matrix([[7,5,3],[0,7,5],[0,0,7]])\n",
    "print(\"Матриця A:\\n\",A)\n",
    "print(\"Матриця B:\\n\",B)\n",
    "\n",
    "AB_matrix = A.dot(B)\n",
    "BA_matrix = B.dot(A)\n",
    "C = AB_matrix - BA_matrix\n",
    "print(\"Матриця C:\\n\",C)\n"
   ]
  },
  {
   "cell_type": "code",
   "execution_count": null,
   "id": "89e6678a-eefa-4c32-910f-9250cdbc213e",
   "metadata": {},
   "outputs": [],
   "source": []
  }
 ],
 "metadata": {
  "kernelspec": {
   "display_name": "Python 3 (ipykernel)",
   "language": "python",
   "name": "python3"
  },
  "language_info": {
   "codemirror_mode": {
    "name": "ipython",
    "version": 3
   },
   "file_extension": ".py",
   "mimetype": "text/x-python",
   "name": "python",
   "nbconvert_exporter": "python",
   "pygments_lexer": "ipython3",
   "version": "3.11.1"
  }
 },
 "nbformat": 4,
 "nbformat_minor": 5
}
