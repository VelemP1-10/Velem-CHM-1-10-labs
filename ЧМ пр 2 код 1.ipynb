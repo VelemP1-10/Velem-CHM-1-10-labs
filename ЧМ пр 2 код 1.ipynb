{
 "cells": [
  {
   "cell_type": "code",
   "execution_count": 6,
   "id": "02466d72-be5e-45f1-9dde-cd8f300cdf80",
   "metadata": {},
   "outputs": [
    {
     "name": "stdout",
     "output_type": "stream",
     "text": [
      "Знайденний проміжок: (-2.9, -2.8)\n",
      "Знайденний проміжок: (1.5, 1.6)\n"
     ]
    }
   ],
   "source": [
    "import numpy as np #відокремлення коренів\n",
    "import math\n",
    "def f(x):\n",
    "        return 3 * pow(x,4) + 4 * pow(x,3) - 12 * pow(x,2) - 5\n",
    " \n",
    "def find_unknown_segments():\n",
    "    search_segments_in_range = np.arange(-10, 10, 0.1)\n",
    "    a = None\n",
    "    previousx = None\n",
    "    currentx = None\n",
    "    segments = []\n",
    "    for x in search_segments_in_range:\n",
    "        currentx = f(x)\n",
    "        x = round(x, 5)\n",
    "        if previousx is not None and previousx * currentx < 0:\n",
    "            segments.append((a, x))\n",
    "        a = x\n",
    "        previousx = currentx \n",
    "    return segments\n",
    " \n",
    "segments = find_unknown_segments()\n",
    "for a, b in segments:\n",
    "    print(f\"Знайденний проміжок: ({a}, {b})\")\n"
   ]
  },
  {
   "cell_type": "code",
   "execution_count": null,
   "id": "a79256e9-835d-4678-96e2-f89c74691086",
   "metadata": {},
   "outputs": [],
   "source": []
  }
 ],
 "metadata": {
  "kernelspec": {
   "display_name": "Python 3 (ipykernel)",
   "language": "python",
   "name": "python3"
  },
  "language_info": {
   "codemirror_mode": {
    "name": "ipython",
    "version": 3
   },
   "file_extension": ".py",
   "mimetype": "text/x-python",
   "name": "python",
   "nbconvert_exporter": "python",
   "pygments_lexer": "ipython3",
   "version": "3.11.1"
  }
 },
 "nbformat": 4,
 "nbformat_minor": 5
}
